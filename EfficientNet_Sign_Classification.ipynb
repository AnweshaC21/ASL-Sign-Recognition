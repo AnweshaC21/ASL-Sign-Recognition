{
  "cells": [
    {
      "cell_type": "markdown",
      "metadata": {
        "id": "view-in-github",
        "colab_type": "text"
      },
      "source": [
        "<a href=\"https://colab.research.google.com/github/AnweshaC21/ASL-Sign-Recognition/blob/main/EfficientNet_Sign_Classification.ipynb\" target=\"_parent\"><img src=\"https://colab.research.google.com/assets/colab-badge.svg\" alt=\"Open In Colab\"/></a>"
      ]
    },
    {
      "cell_type": "code",
      "execution_count": null,
      "id": "5ec40c4b",
      "metadata": {
        "execution": {
          "iopub.execute_input": "2024-02-01T14:52:45.045467Z",
          "iopub.status.busy": "2024-02-01T14:52:45.045079Z",
          "iopub.status.idle": "2024-02-01T14:52:45.050595Z",
          "shell.execute_reply": "2024-02-01T14:52:45.049544Z"
        },
        "id": "5ec40c4b",
        "papermill": {
          "duration": 0.020693,
          "end_time": "2024-02-01T14:52:45.053804",
          "exception": false,
          "start_time": "2024-02-01T14:52:45.033111",
          "status": "completed"
        },
        "tags": []
      },
      "outputs": [],
      "source": [
        "# !pip install -q kaggle\n",
        "# !pip install -U keras-efficientnet-v2 -q"
      ]
    },
    {
      "cell_type": "code",
      "execution_count": null,
      "id": "edc488f9",
      "metadata": {
        "_cell_guid": "b1076dfc-b9ad-4769-8c92-a6c4dae69d19",
        "_uuid": "8f2839f25d086af736a60e9eeb907d3b93b6e0e5",
        "execution": {
          "iopub.execute_input": "2024-02-01T14:52:45.073720Z",
          "iopub.status.busy": "2024-02-01T14:52:45.073218Z",
          "iopub.status.idle": "2024-02-01T14:52:51.507701Z",
          "shell.execute_reply": "2024-02-01T14:52:51.506810Z"
        },
        "id": "edc488f9",
        "papermill": {
          "duration": 6.446843,
          "end_time": "2024-02-01T14:52:51.510110",
          "exception": false,
          "start_time": "2024-02-01T14:52:45.063267",
          "status": "completed"
        },
        "tags": []
      },
      "outputs": [],
      "source": [
        "import numpy as np\n",
        "import pandas as pd\n",
        "import matplotlib.pyplot as plt\n",
        "import seaborn as sns\n",
        "import os\n",
        "import tensorflow as tf\n",
        "import tensorflow_hub as hub\n",
        "import cv2\n",
        "from sklearn.model_selection import train_test_split\n",
        "# import keras_efficientnet_v2\n",
        "from tensorflow.keras.applications import efficientnet\n",
        "from tensorflow.keras.models import Sequential, load_model\n",
        "from tensorflow.keras.layers import Dense, Activation, Conv2D, Flatten, Dropout, MaxPooling2D, BatchNormalization, GlobalAveragePooling2D, Input\n",
        "from tensorflow.keras.preprocessing.image import ImageDataGenerator\n",
        "from keras import regularizers\n",
        "from tensorflow.keras import metrics, optimizers, Sequential, activations, callbacks\n",
        "from sklearn.metrics import f1_score, classification_report, confusion_matrix, accuracy_score\n",
        "import keras.backend as K\n",
        "from tensorflow import keras\n",
        "import warnings\n",
        "warnings.filterwarnings('ignore')"
      ]
    },
    {
      "cell_type": "markdown",
      "id": "b363fedf",
      "metadata": {
        "id": "b363fedf",
        "papermill": {
          "duration": 0.008854,
          "end_time": "2024-02-01T14:52:51.528387",
          "exception": false,
          "start_time": "2024-02-01T14:52:51.519533",
          "status": "completed"
        },
        "tags": []
      },
      "source": [
        "# Getting the data"
      ]
    },
    {
      "cell_type": "code",
      "execution_count": null,
      "id": "5e6f32c7",
      "metadata": {
        "execution": {
          "iopub.execute_input": "2024-02-01T14:52:51.548039Z",
          "iopub.status.busy": "2024-02-01T14:52:51.547470Z",
          "iopub.status.idle": "2024-02-01T14:52:51.551754Z",
          "shell.execute_reply": "2024-02-01T14:52:51.550954Z"
        },
        "id": "5e6f32c7",
        "papermill": {
          "duration": 0.016518,
          "end_time": "2024-02-01T14:52:51.553943",
          "exception": false,
          "start_time": "2024-02-01T14:52:51.537425",
          "status": "completed"
        },
        "tags": []
      },
      "outputs": [],
      "source": [
        "# !rm -r ~/.kaggle\n",
        "# !mkdir ~/.kaggle\n",
        "# !mv ./kaggle.json ~/.kaggle/\n",
        "# !chmod 600 ~/.kaggle/kaggle.json"
      ]
    },
    {
      "cell_type": "code",
      "execution_count": null,
      "id": "49e06f73",
      "metadata": {
        "execution": {
          "iopub.execute_input": "2024-02-01T14:52:51.573030Z",
          "iopub.status.busy": "2024-02-01T14:52:51.572729Z",
          "iopub.status.idle": "2024-02-01T14:52:51.576849Z",
          "shell.execute_reply": "2024-02-01T14:52:51.575963Z"
        },
        "id": "49e06f73",
        "papermill": {
          "duration": 0.01593,
          "end_time": "2024-02-01T14:52:51.578892",
          "exception": false,
          "start_time": "2024-02-01T14:52:51.562962",
          "status": "completed"
        },
        "tags": []
      },
      "outputs": [],
      "source": [
        "# !kaggle datasets download lexset/synthetic-asl-alphabet"
      ]
    },
    {
      "cell_type": "code",
      "execution_count": null,
      "id": "3974e56a",
      "metadata": {
        "execution": {
          "iopub.execute_input": "2024-02-01T14:52:51.599441Z",
          "iopub.status.busy": "2024-02-01T14:52:51.599156Z",
          "iopub.status.idle": "2024-02-01T14:52:51.603015Z",
          "shell.execute_reply": "2024-02-01T14:52:51.602209Z"
        },
        "id": "3974e56a",
        "papermill": {
          "duration": 0.015897,
          "end_time": "2024-02-01T14:52:51.605123",
          "exception": false,
          "start_time": "2024-02-01T14:52:51.589226",
          "status": "completed"
        },
        "tags": []
      },
      "outputs": [],
      "source": [
        "# !unzip -qq \"synthetic-asl-alphabet.zip\" -d \"synthetic-asl-alphabet\""
      ]
    },
    {
      "cell_type": "code",
      "execution_count": null,
      "id": "a834c31e",
      "metadata": {
        "execution": {
          "iopub.execute_input": "2024-02-01T14:52:51.624585Z",
          "iopub.status.busy": "2024-02-01T14:52:51.624296Z",
          "iopub.status.idle": "2024-02-01T14:52:51.628332Z",
          "shell.execute_reply": "2024-02-01T14:52:51.627491Z"
        },
        "id": "a834c31e",
        "papermill": {
          "duration": 0.015869,
          "end_time": "2024-02-01T14:52:51.630320",
          "exception": false,
          "start_time": "2024-02-01T14:52:51.614451",
          "status": "completed"
        },
        "tags": []
      },
      "outputs": [],
      "source": [
        "train_dir = '/kaggle/input/alphabets-cnn/Alphabets_CNN_data/train'\n",
        "test_dir = '/kaggle/input/alphabets-cnn/Alphabets_CNN_data/test'"
      ]
    },
    {
      "cell_type": "code",
      "execution_count": null,
      "id": "cb718daa",
      "metadata": {
        "execution": {
          "iopub.execute_input": "2024-02-01T14:52:51.649575Z",
          "iopub.status.busy": "2024-02-01T14:52:51.649290Z",
          "iopub.status.idle": "2024-02-01T14:52:57.505822Z",
          "shell.execute_reply": "2024-02-01T14:52:57.504979Z"
        },
        "id": "cb718daa",
        "papermill": {
          "duration": 5.869011,
          "end_time": "2024-02-01T14:52:57.508318",
          "exception": false,
          "start_time": "2024-02-01T14:52:51.639307",
          "status": "completed"
        },
        "tags": []
      },
      "outputs": [],
      "source": [
        "def load_df(dir_path):\n",
        "    df = {\n",
        "        'filename': [],\n",
        "        'label': []\n",
        "    }\n",
        "    classes = os.listdir(dir_path)\n",
        "    for c in classes:\n",
        "        path = dir_path + '/' + c\n",
        "\n",
        "        img_paths = os.listdir(path)\n",
        "\n",
        "        for img_path in img_paths:\n",
        "            df['filename'].append(c + '/' + img_path)\n",
        "            df['label'].append(c)\n",
        "\n",
        "    df = pd.DataFrame(df)\n",
        "    return df\n",
        "\n",
        "train_df = load_df(train_dir)\n",
        "test_df = load_df(test_dir)"
      ]
    },
    {
      "cell_type": "code",
      "execution_count": null,
      "id": "a8cc3f62",
      "metadata": {
        "execution": {
          "iopub.execute_input": "2024-02-01T14:52:57.528282Z",
          "iopub.status.busy": "2024-02-01T14:52:57.527954Z",
          "iopub.status.idle": "2024-02-01T14:52:57.548025Z",
          "shell.execute_reply": "2024-02-01T14:52:57.547107Z"
        },
        "id": "a8cc3f62",
        "outputId": "25781d2d-d35d-4fb9-c328-7a7022490b34",
        "papermill": {
          "duration": 0.032589,
          "end_time": "2024-02-01T14:52:57.550323",
          "exception": false,
          "start_time": "2024-02-01T14:52:57.517734",
          "status": "completed"
        },
        "tags": []
      },
      "outputs": [
        {
          "data": {
            "text/html": [
              "<div>\n",
              "<style scoped>\n",
              "    .dataframe tbody tr th:only-of-type {\n",
              "        vertical-align: middle;\n",
              "    }\n",
              "\n",
              "    .dataframe tbody tr th {\n",
              "        vertical-align: top;\n",
              "    }\n",
              "\n",
              "    .dataframe thead th {\n",
              "        text-align: right;\n",
              "    }\n",
              "</style>\n",
              "<table border=\"1\" class=\"dataframe\">\n",
              "  <thead>\n",
              "    <tr style=\"text-align: right;\">\n",
              "      <th></th>\n",
              "      <th>filename</th>\n",
              "      <th>label</th>\n",
              "    </tr>\n",
              "  </thead>\n",
              "  <tbody>\n",
              "    <tr>\n",
              "      <th>10602</th>\n",
              "      <td>Q/14aca3aa-f37a-4883-b9ce-70f09c3e8599-rgb_000...</td>\n",
              "      <td>Q</td>\n",
              "    </tr>\n",
              "    <tr>\n",
              "      <th>13438</th>\n",
              "      <td>G/024df437-e53b-459f-ba39-78976210e06f-rgb_000...</td>\n",
              "      <td>G</td>\n",
              "    </tr>\n",
              "    <tr>\n",
              "      <th>3402</th>\n",
              "      <td>I/40e12dcf-5659-4665-aa75-ebb421cab605-rgb_000...</td>\n",
              "      <td>I</td>\n",
              "    </tr>\n",
              "    <tr>\n",
              "      <th>9007</th>\n",
              "      <td>K/20801eee-84a9-4b43-bf30-29c4f882b64d-rgb_000...</td>\n",
              "      <td>K</td>\n",
              "    </tr>\n",
              "    <tr>\n",
              "      <th>22196</th>\n",
              "      <td>D/517e8581-06ed-45b5-93de-87e1a85dd09d-rgb_000...</td>\n",
              "      <td>D</td>\n",
              "    </tr>\n",
              "  </tbody>\n",
              "</table>\n",
              "</div>"
            ],
            "text/plain": [
              "                                                filename label\n",
              "10602  Q/14aca3aa-f37a-4883-b9ce-70f09c3e8599-rgb_000...     Q\n",
              "13438  G/024df437-e53b-459f-ba39-78976210e06f-rgb_000...     G\n",
              "3402   I/40e12dcf-5659-4665-aa75-ebb421cab605-rgb_000...     I\n",
              "9007   K/20801eee-84a9-4b43-bf30-29c4f882b64d-rgb_000...     K\n",
              "22196  D/517e8581-06ed-45b5-93de-87e1a85dd09d-rgb_000...     D"
            ]
          },
          "execution_count": 8,
          "metadata": {},
          "output_type": "execute_result"
        }
      ],
      "source": [
        "train_df.sample(5)"
      ]
    },
    {
      "cell_type": "markdown",
      "id": "3beebfac",
      "metadata": {
        "id": "3beebfac",
        "papermill": {
          "duration": 0.00889,
          "end_time": "2024-02-01T14:52:57.568559",
          "exception": false,
          "start_time": "2024-02-01T14:52:57.559669",
          "status": "completed"
        },
        "tags": []
      },
      "source": [
        "# Split train-valid"
      ]
    },
    {
      "cell_type": "code",
      "execution_count": null,
      "id": "5f846918",
      "metadata": {
        "execution": {
          "iopub.execute_input": "2024-02-01T14:52:57.588253Z",
          "iopub.status.busy": "2024-02-01T14:52:57.587939Z",
          "iopub.status.idle": "2024-02-01T14:52:57.630667Z",
          "shell.execute_reply": "2024-02-01T14:52:57.629617Z"
        },
        "id": "5f846918",
        "outputId": "ab300b3e-edcb-4a59-9fa2-1b0956fc164e",
        "papermill": {
          "duration": 0.055026,
          "end_time": "2024-02-01T14:52:57.632808",
          "exception": false,
          "start_time": "2024-02-01T14:52:57.577782",
          "status": "completed"
        },
        "tags": []
      },
      "outputs": [
        {
          "name": "stdout",
          "output_type": "stream",
          "text": [
            "(20800,)\n",
            "(2600,)\n"
          ]
        }
      ],
      "source": [
        "X = train_df['filename']\n",
        "y = train_df['label']\n",
        "\n",
        "X_train, X_valid, y_train, y_valid = train_test_split(X, y, stratify=y, random_state=1, test_size=0.11111)\n",
        "print(X_train.shape)\n",
        "print(X_valid.shape)"
      ]
    },
    {
      "cell_type": "code",
      "execution_count": null,
      "id": "14789526",
      "metadata": {
        "execution": {
          "iopub.execute_input": "2024-02-01T14:52:57.652981Z",
          "iopub.status.busy": "2024-02-01T14:52:57.652683Z",
          "iopub.status.idle": "2024-02-01T14:52:57.660679Z",
          "shell.execute_reply": "2024-02-01T14:52:57.659757Z"
        },
        "id": "14789526",
        "papermill": {
          "duration": 0.020312,
          "end_time": "2024-02-01T14:52:57.662674",
          "exception": false,
          "start_time": "2024-02-01T14:52:57.642362",
          "status": "completed"
        },
        "tags": []
      },
      "outputs": [],
      "source": [
        "train = pd.concat([X_train, y_train], axis=1)\n",
        "valid = pd.concat([X_valid, y_valid], axis=1)\n",
        "test = test_df"
      ]
    },
    {
      "cell_type": "code",
      "execution_count": null,
      "id": "c6589592",
      "metadata": {
        "execution": {
          "iopub.execute_input": "2024-02-01T14:52:57.682302Z",
          "iopub.status.busy": "2024-02-01T14:52:57.682044Z",
          "iopub.status.idle": "2024-02-01T14:52:57.693571Z",
          "shell.execute_reply": "2024-02-01T14:52:57.692667Z"
        },
        "id": "c6589592",
        "outputId": "b88b9899-6cc7-45fe-9b54-11613c295b24",
        "papermill": {
          "duration": 0.023819,
          "end_time": "2024-02-01T14:52:57.695692",
          "exception": false,
          "start_time": "2024-02-01T14:52:57.671873",
          "status": "completed"
        },
        "tags": []
      },
      "outputs": [
        {
          "data": {
            "text/plain": [
              "V    800\n",
              "A    800\n",
              "W    800\n",
              "S    800\n",
              "E    800\n",
              "P    800\n",
              "B    800\n",
              "K    800\n",
              "T    800\n",
              "R    800\n",
              "M    800\n",
              "F    800\n",
              "H    800\n",
              "C    800\n",
              "L    800\n",
              "G    800\n",
              "J    800\n",
              "U    800\n",
              "D    800\n",
              "N    800\n",
              "I    800\n",
              "Z    800\n",
              "O    800\n",
              "Q    800\n",
              "X    800\n",
              "Y    800\n",
              "Name: label, dtype: int64"
            ]
          },
          "execution_count": 11,
          "metadata": {},
          "output_type": "execute_result"
        }
      ],
      "source": [
        "train['label'].value_counts()"
      ]
    },
    {
      "cell_type": "code",
      "execution_count": null,
      "id": "a82f0b24",
      "metadata": {
        "execution": {
          "iopub.execute_input": "2024-02-01T14:52:57.718196Z",
          "iopub.status.busy": "2024-02-01T14:52:57.717289Z",
          "iopub.status.idle": "2024-02-01T14:52:57.726737Z",
          "shell.execute_reply": "2024-02-01T14:52:57.725651Z"
        },
        "id": "a82f0b24",
        "outputId": "ba142378-3199-45d8-9f81-a3221a46ab58",
        "papermill": {
          "duration": 0.023397,
          "end_time": "2024-02-01T14:52:57.729047",
          "exception": false,
          "start_time": "2024-02-01T14:52:57.705650",
          "status": "completed"
        },
        "tags": []
      },
      "outputs": [
        {
          "data": {
            "text/plain": [
              "Q    100\n",
              "E    100\n",
              "F    100\n",
              "W    100\n",
              "A    100\n",
              "J    100\n",
              "D    100\n",
              "L    100\n",
              "B    100\n",
              "R    100\n",
              "K    100\n",
              "N    100\n",
              "G    100\n",
              "X    100\n",
              "Z    100\n",
              "Y    100\n",
              "V    100\n",
              "U    100\n",
              "M    100\n",
              "I    100\n",
              "H    100\n",
              "C    100\n",
              "T    100\n",
              "S    100\n",
              "O    100\n",
              "P    100\n",
              "Name: label, dtype: int64"
            ]
          },
          "execution_count": 12,
          "metadata": {},
          "output_type": "execute_result"
        }
      ],
      "source": [
        "valid['label'].value_counts()"
      ]
    },
    {
      "cell_type": "code",
      "execution_count": null,
      "id": "6d9cc348",
      "metadata": {
        "execution": {
          "iopub.execute_input": "2024-02-01T14:52:57.751790Z",
          "iopub.status.busy": "2024-02-01T14:52:57.751478Z",
          "iopub.status.idle": "2024-02-01T14:52:57.760004Z",
          "shell.execute_reply": "2024-02-01T14:52:57.758994Z"
        },
        "id": "6d9cc348",
        "outputId": "ca31e4fd-789f-4a9a-99ed-5241d22021ac",
        "papermill": {
          "duration": 0.022299,
          "end_time": "2024-02-01T14:52:57.762136",
          "exception": false,
          "start_time": "2024-02-01T14:52:57.739837",
          "status": "completed"
        },
        "tags": []
      },
      "outputs": [
        {
          "data": {
            "text/plain": [
              "N    100\n",
              "R    100\n",
              "D    100\n",
              "W    100\n",
              "L    100\n",
              "P    100\n",
              "C    100\n",
              "Z    100\n",
              "V    100\n",
              "T    100\n",
              "O    100\n",
              "A    100\n",
              "G    100\n",
              "S    100\n",
              "Y    100\n",
              "Q    100\n",
              "K    100\n",
              "X    100\n",
              "M    100\n",
              "U    100\n",
              "E    100\n",
              "H    100\n",
              "F    100\n",
              "I    100\n",
              "B    100\n",
              "J    100\n",
              "Name: label, dtype: int64"
            ]
          },
          "execution_count": 13,
          "metadata": {},
          "output_type": "execute_result"
        }
      ],
      "source": [
        "test['label'].value_counts()"
      ]
    },
    {
      "cell_type": "code",
      "execution_count": null,
      "id": "26c794be",
      "metadata": {
        "execution": {
          "iopub.execute_input": "2024-02-01T14:52:57.784198Z",
          "iopub.status.busy": "2024-02-01T14:52:57.783899Z",
          "iopub.status.idle": "2024-02-01T14:53:46.366549Z",
          "shell.execute_reply": "2024-02-01T14:53:46.365340Z"
        },
        "id": "26c794be",
        "outputId": "2032a321-fd59-46fc-e35f-35fe61bbf72c",
        "papermill": {
          "duration": 48.596452,
          "end_time": "2024-02-01T14:53:46.368957",
          "exception": false,
          "start_time": "2024-02-01T14:52:57.772505",
          "status": "completed"
        },
        "tags": []
      },
      "outputs": [
        {
          "name": "stdout",
          "output_type": "stream",
          "text": [
            "Found 20800 validated image filenames belonging to 26 classes.\n",
            "Found 2600 validated image filenames belonging to 26 classes.\n",
            "Found 2600 validated image filenames.\n"
          ]
        }
      ],
      "source": [
        "IMAGE_SIZE = (224, 224)\n",
        "\n",
        "datagen = ImageDataGenerator(\n",
        "    rescale=1./255,\n",
        "#     rotation_range=40,\n",
        "    zoom_range=0.2,\n",
        "    width_shift_range=0.05,\n",
        "    height_shift_range=0.05,\n",
        "#     brightness_range=[0.5, 1.0],\n",
        ")\n",
        "\n",
        "train_generator = datagen.flow_from_dataframe(\n",
        "    dataframe = train,\n",
        "    directory = train_dir,\n",
        "    x_col='filename',\n",
        "    y_col='label',\n",
        "    batch_size=32,\n",
        "    # color_mode=\"rgb\",\n",
        "    seed=42,\n",
        "    shuffle=True,\n",
        "    class_mode='sparse',\n",
        "    target_size=IMAGE_SIZE\n",
        ")\n",
        "\n",
        "valid_generator=datagen.flow_from_dataframe(\n",
        "    dataframe=valid,\n",
        "    directory=train_dir,\n",
        "    x_col=\"filename\",\n",
        "    y_col=\"label\",\n",
        "    batch_size=32,\n",
        "    # color_mode=\"rgb\",\n",
        "    seed=42,\n",
        "    shuffle=True,\n",
        "    class_mode=\"sparse\",\n",
        "    target_size=IMAGE_SIZE\n",
        ")\n",
        "\n",
        "test_datagen=ImageDataGenerator(rescale=1./255.)\n",
        "\n",
        "test_generator=test_datagen.flow_from_dataframe(\n",
        "    dataframe=test,\n",
        "    directory=test_dir,\n",
        "    x_col=\"filename\",\n",
        "    y_col=None,\n",
        "    batch_size=1,\n",
        "    # color_mode=\"rgb\",\n",
        "    seed=42,\n",
        "    shuffle=False,\n",
        "    class_mode=None,\n",
        "    target_size=IMAGE_SIZE\n",
        ")"
      ]
    },
    {
      "cell_type": "markdown",
      "id": "f7570bb0",
      "metadata": {
        "id": "f7570bb0",
        "papermill": {
          "duration": 0.010943,
          "end_time": "2024-02-01T14:53:46.390417",
          "exception": false,
          "start_time": "2024-02-01T14:53:46.379474",
          "status": "completed"
        },
        "tags": []
      },
      "source": [
        "# EfficientNetV2B0"
      ]
    },
    {
      "cell_type": "markdown",
      "id": "e886bda1",
      "metadata": {
        "papermill": {
          "duration": 0.01046,
          "end_time": "2024-02-01T14:53:46.412914",
          "exception": false,
          "start_time": "2024-02-01T14:53:46.402454",
          "status": "completed"
        },
        "tags": [],
        "id": "e886bda1"
      },
      "source": [
        "## Training"
      ]
    },
    {
      "cell_type": "code",
      "execution_count": null,
      "id": "bb36d652",
      "metadata": {
        "execution": {
          "iopub.execute_input": "2024-02-01T14:53:46.435188Z",
          "iopub.status.busy": "2024-02-01T14:53:46.434836Z",
          "iopub.status.idle": "2024-02-01T14:53:52.198874Z",
          "shell.execute_reply": "2024-02-01T14:53:52.197730Z"
        },
        "papermill": {
          "duration": 5.777881,
          "end_time": "2024-02-01T14:53:52.201154",
          "exception": false,
          "start_time": "2024-02-01T14:53:46.423273",
          "status": "completed"
        },
        "tags": [],
        "id": "bb36d652",
        "outputId": "7b6435ef-752d-40f7-9d14-289eb6df6dd7"
      },
      "outputs": [
        {
          "name": "stdout",
          "output_type": "stream",
          "text": [
            "Downloading data from https://storage.googleapis.com/keras-applications/efficientnetb0_notop.h5\n",
            "16711680/16705208 [==============================] - 0s 0us/step\n",
            "16719872/16705208 [==============================] - 0s 0us/step\n",
            "Model: \"efficientnet_model\"\n",
            "_________________________________________________________________\n",
            "Layer (type)                 Output Shape              Param #   \n",
            "=================================================================\n",
            "inputs (InputLayer)          [(None, 224, 224, 3)]     0         \n",
            "_________________________________________________________________\n",
            "efficientnetb0 (Functional)  (None, None, None, 1280)  4049571   \n",
            "_________________________________________________________________\n",
            "global_average_pooling2d (Gl (None, 1280)              0         \n",
            "_________________________________________________________________\n",
            "dropout (Dropout)            (None, 1280)              0         \n",
            "_________________________________________________________________\n",
            "dense (Dense)                (None, 26)                33306     \n",
            "=================================================================\n",
            "Total params: 4,082,877\n",
            "Trainable params: 33,306\n",
            "Non-trainable params: 4,049,571\n",
            "_________________________________________________________________\n"
          ]
        }
      ],
      "source": [
        "tf.keras.backend.clear_session()\n",
        "num_classes = 26\n",
        "\n",
        "backbone = tf.keras.applications.EfficientNetB0(include_top=False)\n",
        "backbone.trainable = False\n",
        "\n",
        "inputs = Input(shape=IMAGE_SIZE + (3,), name='inputs')\n",
        "x = backbone(inputs, training=False)\n",
        "x = GlobalAveragePooling2D()(x)\n",
        "x = Dropout(0.2)(x)\n",
        "# x = Dense(100, activation='relu')(x)\n",
        "outputs = Dense(26, activation='softmax')(x)\n",
        "\n",
        "model_efficientnet = tf.keras.Model(inputs=inputs, outputs=outputs, name='efficientnet_model')\n",
        "model_efficientnet.summary()"
      ]
    },
    {
      "cell_type": "code",
      "execution_count": null,
      "id": "cd9d1e17",
      "metadata": {
        "execution": {
          "iopub.execute_input": "2024-02-01T14:53:52.225214Z",
          "iopub.status.busy": "2024-02-01T14:53:52.224812Z",
          "iopub.status.idle": "2024-02-01T14:53:59.555260Z",
          "shell.execute_reply": "2024-02-01T14:53:59.553915Z"
        },
        "papermill": {
          "duration": 7.345823,
          "end_time": "2024-02-01T14:53:59.557719",
          "exception": false,
          "start_time": "2024-02-01T14:53:52.211896",
          "status": "completed"
        },
        "tags": [],
        "id": "cd9d1e17",
        "outputId": "a5e51c47-7ecf-48a0-efae-59a8dc0c918a"
      },
      "outputs": [
        {
          "name": "stdout",
          "output_type": "stream",
          "text": [
            "Model: \"sequential\"\n",
            "_________________________________________________________________\n",
            "Layer (type)                 Output Shape              Param #   \n",
            "=================================================================\n",
            "feature_extraction_layer (Ke (None, 1280)              5919312   \n",
            "_________________________________________________________________\n",
            "dropout (Dropout)            (None, 1280)              0         \n",
            "_________________________________________________________________\n",
            "dense (Dense)                (None, 26)                33306     \n",
            "=================================================================\n",
            "Total params: 5,952,618\n",
            "Trainable params: 33,306\n",
            "Non-trainable params: 5,919,312\n",
            "_________________________________________________________________\n"
          ]
        }
      ],
      "source": [
        "tf.keras.backend.clear_session()\n",
        "num_classes = 26\n",
        "model_url = 'https://tfhub.dev/google/imagenet/efficientnet_v2_imagenet1k_b0/feature_vector/2'\n",
        "\n",
        "feature_extractor_layer = hub.KerasLayer(model_url,\n",
        "                                         trainable=False, # freeze the underlying patterns\n",
        "                                         name='feature_extraction_layer',\n",
        "                                         input_shape=IMAGE_SIZE + (3,))\n",
        "\n",
        "\n",
        "model_efficientnet = tf.keras.Sequential([\n",
        "    feature_extractor_layer, # use the feature extraction layer as the base\n",
        "    Dropout(0.2),\n",
        "    Dense(num_classes, activation='softmax') # create our own output layer\n",
        "])\n",
        "\n",
        "model_efficientnet.summary()"
      ]
    },
    {
      "cell_type": "code",
      "execution_count": null,
      "id": "3770db9c",
      "metadata": {
        "execution": {
          "iopub.execute_input": "2024-02-01T14:53:59.580459Z",
          "iopub.status.busy": "2024-02-01T14:53:59.580121Z",
          "iopub.status.idle": "2024-02-01T14:53:59.593139Z",
          "shell.execute_reply": "2024-02-01T14:53:59.592101Z"
        },
        "id": "3770db9c",
        "papermill": {
          "duration": 0.026871,
          "end_time": "2024-02-01T14:53:59.595438",
          "exception": false,
          "start_time": "2024-02-01T14:53:59.568567",
          "status": "completed"
        },
        "tags": []
      },
      "outputs": [],
      "source": [
        "model_efficientnet.compile(optimizer=keras.optimizers.Adam(),\n",
        "                           loss='sparse_categorical_crossentropy',\n",
        "                           metrics=[\"accuracy\"])"
      ]
    },
    {
      "cell_type": "code",
      "execution_count": null,
      "id": "a1ed1358",
      "metadata": {
        "execution": {
          "iopub.execute_input": "2024-02-01T14:53:59.619386Z",
          "iopub.status.busy": "2024-02-01T14:53:59.619073Z",
          "iopub.status.idle": "2024-02-01T17:19:55.131642Z",
          "shell.execute_reply": "2024-02-01T17:19:55.130619Z"
        },
        "id": "a1ed1358",
        "outputId": "67a38c56-b953-40ef-fb48-df158af73f61",
        "papermill": {
          "duration": 8757.028725,
          "end_time": "2024-02-01T17:19:56.635415",
          "exception": false,
          "start_time": "2024-02-01T14:53:59.606690",
          "status": "completed"
        },
        "tags": []
      },
      "outputs": [
        {
          "name": "stdout",
          "output_type": "stream",
          "text": [
            "Epoch 1/30\n",
            "650/650 [==============================] - 443s 660ms/step - loss: 1.1415 - accuracy: 0.7711 - val_loss: 0.5082 - val_accuracy: 0.9192\n",
            "Epoch 2/30\n",
            "650/650 [==============================] - 286s 441ms/step - loss: 0.3923 - accuracy: 0.9320 - val_loss: 0.2936 - val_accuracy: 0.9508\n",
            "Epoch 3/30\n",
            "650/650 [==============================] - 282s 434ms/step - loss: 0.2595 - accuracy: 0.9528 - val_loss: 0.2115 - val_accuracy: 0.9635\n",
            "Epoch 4/30\n",
            "650/650 [==============================] - 281s 433ms/step - loss: 0.1979 - accuracy: 0.9643 - val_loss: 0.1676 - val_accuracy: 0.9700\n",
            "Epoch 5/30\n",
            "650/650 [==============================] - 283s 435ms/step - loss: 0.1645 - accuracy: 0.9674 - val_loss: 0.1446 - val_accuracy: 0.9719\n",
            "Epoch 6/30\n",
            "650/650 [==============================] - 286s 441ms/step - loss: 0.1409 - accuracy: 0.9728 - val_loss: 0.1283 - val_accuracy: 0.9781\n",
            "Epoch 7/30\n",
            "650/650 [==============================] - 285s 438ms/step - loss: 0.1214 - accuracy: 0.9767 - val_loss: 0.1103 - val_accuracy: 0.9773\n",
            "Epoch 8/30\n",
            "650/650 [==============================] - 281s 432ms/step - loss: 0.1106 - accuracy: 0.9774 - val_loss: 0.1058 - val_accuracy: 0.9777\n",
            "Epoch 9/30\n",
            "650/650 [==============================] - 281s 432ms/step - loss: 0.1022 - accuracy: 0.9788 - val_loss: 0.0942 - val_accuracy: 0.9796\n",
            "Epoch 10/30\n",
            "650/650 [==============================] - 282s 433ms/step - loss: 0.0954 - accuracy: 0.9796 - val_loss: 0.0916 - val_accuracy: 0.9792\n",
            "Epoch 11/30\n",
            "650/650 [==============================] - 281s 432ms/step - loss: 0.0878 - accuracy: 0.9805 - val_loss: 0.0933 - val_accuracy: 0.9769\n",
            "Epoch 12/30\n",
            "650/650 [==============================] - 283s 436ms/step - loss: 0.0839 - accuracy: 0.9812 - val_loss: 0.0839 - val_accuracy: 0.9800\n",
            "Epoch 13/30\n",
            "650/650 [==============================] - 278s 428ms/step - loss: 0.0777 - accuracy: 0.9826 - val_loss: 0.0873 - val_accuracy: 0.9792\n",
            "Epoch 14/30\n",
            "650/650 [==============================] - 279s 429ms/step - loss: 0.0754 - accuracy: 0.9823 - val_loss: 0.0810 - val_accuracy: 0.9827\n",
            "Epoch 15/30\n",
            "650/650 [==============================] - 282s 433ms/step - loss: 0.0697 - accuracy: 0.9840 - val_loss: 0.0728 - val_accuracy: 0.9827\n",
            "Epoch 16/30\n",
            "650/650 [==============================] - 282s 434ms/step - loss: 0.0682 - accuracy: 0.9841 - val_loss: 0.0738 - val_accuracy: 0.9823\n",
            "Epoch 17/30\n",
            "650/650 [==============================] - 285s 439ms/step - loss: 0.0654 - accuracy: 0.9841 - val_loss: 0.0706 - val_accuracy: 0.9838\n",
            "Epoch 18/30\n",
            "650/650 [==============================] - 289s 445ms/step - loss: 0.0624 - accuracy: 0.9856 - val_loss: 0.0728 - val_accuracy: 0.9812\n",
            "Epoch 19/30\n",
            "650/650 [==============================] - 280s 430ms/step - loss: 0.0612 - accuracy: 0.9845 - val_loss: 0.0722 - val_accuracy: 0.9842\n",
            "Epoch 20/30\n",
            "650/650 [==============================] - 294s 451ms/step - loss: 0.0603 - accuracy: 0.9858 - val_loss: 0.0751 - val_accuracy: 0.9792\n",
            "Epoch 21/30\n",
            "650/650 [==============================] - 296s 455ms/step - loss: 0.0601 - accuracy: 0.9837 - val_loss: 0.0698 - val_accuracy: 0.9835\n",
            "Epoch 22/30\n",
            "650/650 [==============================] - 292s 449ms/step - loss: 0.0552 - accuracy: 0.9871 - val_loss: 0.0595 - val_accuracy: 0.9858\n",
            "Epoch 23/30\n",
            "650/650 [==============================] - 296s 455ms/step - loss: 0.0535 - accuracy: 0.9869 - val_loss: 0.0665 - val_accuracy: 0.9815\n",
            "Epoch 24/30\n",
            "650/650 [==============================] - 290s 446ms/step - loss: 0.0548 - accuracy: 0.9858 - val_loss: 0.0657 - val_accuracy: 0.9827\n",
            "Epoch 25/30\n",
            "650/650 [==============================] - 293s 450ms/step - loss: 0.0505 - accuracy: 0.9872 - val_loss: 0.0576 - val_accuracy: 0.9862\n",
            "Epoch 26/30\n",
            "650/650 [==============================] - 294s 453ms/step - loss: 0.0489 - accuracy: 0.9875 - val_loss: 0.0536 - val_accuracy: 0.9862\n",
            "Epoch 27/30\n",
            "650/650 [==============================] - 291s 448ms/step - loss: 0.0487 - accuracy: 0.9882 - val_loss: 0.0689 - val_accuracy: 0.9831\n",
            "Epoch 28/30\n",
            "650/650 [==============================] - 292s 449ms/step - loss: 0.0486 - accuracy: 0.9872 - val_loss: 0.0580 - val_accuracy: 0.9865\n",
            "Epoch 29/30\n",
            "650/650 [==============================] - 290s 447ms/step - loss: 0.0491 - accuracy: 0.9868 - val_loss: 0.0597 - val_accuracy: 0.9842\n",
            "Epoch 30/30\n",
            "650/650 [==============================] - 293s 450ms/step - loss: 0.0489 - accuracy: 0.9875 - val_loss: 0.0540 - val_accuracy: 0.9854\n"
          ]
        }
      ],
      "source": [
        "cb = [\n",
        "#     callbacks.EarlyStopping(monitor='val_loss', patience=5, restore_best_weights=True),\n",
        "    callbacks.ModelCheckpoint('model_efficientnet.hdf5', save_best_only=True, monitor='val_loss')\n",
        "]\n",
        "\n",
        "history_efficientnet = model_efficientnet.fit(\n",
        "    train_generator,\n",
        "    validation_data = valid_generator,\n",
        "    epochs = 30,\n",
        "    batch_size = 32,\n",
        "    verbose = 1,\n",
        "    callbacks = cb\n",
        ")"
      ]
    },
    {
      "cell_type": "code",
      "execution_count": null,
      "id": "1499d42c",
      "metadata": {
        "execution": {
          "iopub.execute_input": "2024-02-01T17:19:59.755331Z",
          "iopub.status.busy": "2024-02-01T17:19:59.754927Z",
          "iopub.status.idle": "2024-02-01T17:20:00.151884Z",
          "shell.execute_reply": "2024-02-01T17:20:00.150820Z"
        },
        "id": "1499d42c",
        "papermill": {
          "duration": 1.91093,
          "end_time": "2024-02-01T17:20:00.154173",
          "exception": false,
          "start_time": "2024-02-01T17:19:58.243243",
          "status": "completed"
        },
        "tags": [],
        "outputId": "2b3962ab-7b9f-42fc-a6c8-8a7af8620313"
      },
      "outputs": [
        {
          "data": {
            "image/png": "[encoded data removed]",
            "text/plain": [
              "<Figure size 864x432 with 2 Axes>"
            ]
          },
          "metadata": {
            "needs_background": "light"
          },
          "output_type": "display_data"
        }
      ],
      "source": [
        "fig, ax = plt.subplots(nrows = 1, ncols = 2, figsize = (12,6))\n",
        "\n",
        "ax[0].plot(history_efficientnet.history['accuracy'], '-', label = 'Training Accuracy')\n",
        "ax[0].plot(history_efficientnet.history['val_accuracy'], '-', label = 'Validation Accuracy')\n",
        "ax[0].set_xlabel('Epochs')\n",
        "ax[0].set_ylabel('Accuracy')\n",
        "ax[0].set_title('Epochs & Training Accuracy', fontsize=20)\n",
        "ax[0].legend(loc='best')\n",
        "\n",
        "ax[1].plot(history_efficientnet.history['loss'], '-', label = 'Training loss')\n",
        "ax[1].plot(history_efficientnet.history['val_loss'], '-', label = 'Validation loss')\n",
        "ax[1].set_xlabel('Epochs')\n",
        "ax[1].set_ylabel('loss')\n",
        "ax[1].set_title('Epochs & Training loss', fontsize=20)\n",
        "ax[1].legend(loc='best')\n",
        "\n",
        "plt.show()"
      ]
    },
    {
      "cell_type": "code",
      "execution_count": null,
      "id": "57fb9d25",
      "metadata": {
        "execution": {
          "iopub.execute_input": "2024-02-01T17:20:03.312648Z",
          "iopub.status.busy": "2024-02-01T17:20:03.312242Z",
          "iopub.status.idle": "2024-02-01T17:20:03.317013Z",
          "shell.execute_reply": "2024-02-01T17:20:03.316084Z"
        },
        "id": "57fb9d25",
        "papermill": {
          "duration": 1.539637,
          "end_time": "2024-02-01T17:20:03.319335",
          "exception": false,
          "start_time": "2024-02-01T17:20:01.779698",
          "status": "completed"
        },
        "tags": []
      },
      "outputs": [],
      "source": [
        "model_loaded = model_efficientnet"
      ]
    },
    {
      "cell_type": "code",
      "execution_count": null,
      "id": "b0158b3f",
      "metadata": {
        "execution": {
          "iopub.execute_input": "2024-02-01T17:20:06.482056Z",
          "iopub.status.busy": "2024-02-01T17:20:06.481678Z",
          "iopub.status.idle": "2024-02-01T17:20:42.678590Z",
          "shell.execute_reply": "2024-02-01T17:20:42.677657Z"
        },
        "id": "b0158b3f",
        "papermill": {
          "duration": 37.776727,
          "end_time": "2024-02-01T17:20:42.681173",
          "exception": false,
          "start_time": "2024-02-01T17:20:04.904446",
          "status": "completed"
        },
        "tags": [],
        "outputId": "ad2602e2-08e0-4f17-f0f2-3e118e2bca7c"
      },
      "outputs": [
        {
          "name": "stdout",
          "output_type": "stream",
          "text": [
            "2600/2600 [==============================] - 36s 13ms/step\n"
          ]
        }
      ],
      "source": [
        "test_generator.reset()\n",
        "pred = model_loaded.predict(test_generator, verbose=1)"
      ]
    },
    {
      "cell_type": "code",
      "execution_count": null,
      "id": "e1041c27",
      "metadata": {
        "execution": {
          "iopub.execute_input": "2024-02-01T17:20:46.013390Z",
          "iopub.status.busy": "2024-02-01T17:20:46.012494Z",
          "iopub.status.idle": "2024-02-01T17:20:46.094983Z",
          "shell.execute_reply": "2024-02-01T17:20:46.093575Z"
        },
        "id": "e1041c27",
        "papermill": {
          "duration": 1.762287,
          "end_time": "2024-02-01T17:20:46.097610",
          "exception": false,
          "start_time": "2024-02-01T17:20:44.335323",
          "status": "completed"
        },
        "tags": [],
        "outputId": "5c11117f-2b4c-4912-a0a0-aba8ee144914"
      },
      "outputs": [
        {
          "name": "stdout",
          "output_type": "stream",
          "text": [
            "0.9923076923076923\n",
            "              precision    recall  f1-score   support\n",
            "\n",
            "           A       1.00      1.00      1.00       100\n",
            "           B       1.00      1.00      1.00       100\n",
            "           C       1.00      0.97      0.98       100\n",
            "           D       0.99      0.98      0.98       100\n",
            "           E       0.98      1.00      0.99       100\n",
            "           F       0.97      1.00      0.99       100\n",
            "           G       0.99      1.00      1.00       100\n",
            "           H       0.99      1.00      1.00       100\n",
            "           I       0.98      0.99      0.99       100\n",
            "           J       1.00      0.99      0.99       100\n",
            "           K       1.00      0.99      0.99       100\n",
            "           L       0.99      1.00      1.00       100\n",
            "           M       1.00      0.99      0.99       100\n",
            "           N       0.99      0.99      0.99       100\n",
            "           O       1.00      1.00      1.00       100\n",
            "           P       0.99      0.98      0.98       100\n",
            "           Q       0.99      0.99      0.99       100\n",
            "           R       1.00      0.98      0.99       100\n",
            "           S       0.97      1.00      0.99       100\n",
            "           T       1.00      0.99      0.99       100\n",
            "           U       1.00      0.99      0.99       100\n",
            "           V       1.00      1.00      1.00       100\n",
            "           W       1.00      0.98      0.99       100\n",
            "           X       0.97      1.00      0.99       100\n",
            "           Y       1.00      0.99      0.99       100\n",
            "           Z       1.00      1.00      1.00       100\n",
            "\n",
            "    accuracy                           0.99      2600\n",
            "   macro avg       0.99      0.99      0.99      2600\n",
            "weighted avg       0.99      0.99      0.99      2600\n",
            "\n"
          ]
        }
      ],
      "source": [
        "pred = np.argmax(pred,axis=1)\n",
        "labels = (train_generator.class_indices)\n",
        "labels = dict((v,k) for k,v in labels.items())\n",
        "pred = [labels[k] for k in pred]\n",
        "\n",
        "print(accuracy_score(test['label'], pred))\n",
        "print(classification_report(test['label'], pred))"
      ]
    },
    {
      "cell_type": "markdown",
      "id": "c282687c",
      "metadata": {
        "papermill": {
          "duration": 1.697264,
          "end_time": "2024-02-01T17:20:49.414113",
          "exception": false,
          "start_time": "2024-02-01T17:20:47.716849",
          "status": "completed"
        },
        "tags": [],
        "id": "c282687c"
      },
      "source": [
        "## Fine-tuning"
      ]
    },
    {
      "cell_type": "code",
      "execution_count": null,
      "id": "dd8bf8c1",
      "metadata": {
        "execution": {
          "iopub.execute_input": "2024-02-01T17:20:52.655446Z",
          "iopub.status.busy": "2024-02-01T17:20:52.654675Z",
          "iopub.status.idle": "2024-02-01T17:20:52.669058Z",
          "shell.execute_reply": "2024-02-01T17:20:52.668162Z"
        },
        "papermill": {
          "duration": 1.712552,
          "end_time": "2024-02-01T17:20:52.671733",
          "exception": false,
          "start_time": "2024-02-01T17:20:50.959181",
          "status": "completed"
        },
        "tags": [],
        "id": "dd8bf8c1"
      },
      "outputs": [],
      "source": [
        "feature_extractor_layer.trainable = True\n",
        "\n",
        "model_efficientnet.compile(optimizer=keras.optimizers.Adam(learning_rate=1e-5),\n",
        "                           loss='sparse_categorical_crossentropy',\n",
        "                           metrics=[\"accuracy\"])"
      ]
    },
    {
      "cell_type": "code",
      "execution_count": null,
      "id": "9c1d36db",
      "metadata": {
        "execution": {
          "iopub.execute_input": "2024-02-01T17:20:55.892283Z",
          "iopub.status.busy": "2024-02-01T17:20:55.891779Z",
          "iopub.status.idle": "2024-02-01T18:11:20.863064Z",
          "shell.execute_reply": "2024-02-01T18:11:20.862034Z"
        },
        "papermill": {
          "duration": 3028.710394,
          "end_time": "2024-02-01T18:11:22.981481",
          "exception": false,
          "start_time": "2024-02-01T17:20:54.271087",
          "status": "completed"
        },
        "tags": [],
        "id": "9c1d36db",
        "outputId": "41ccacd9-8f87-4452-af54-713cd58a30aa"
      },
      "outputs": [
        {
          "name": "stdout",
          "output_type": "stream",
          "text": [
            "Epoch 1/10\n",
            "650/650 [==============================] - 318s 471ms/step - loss: 0.8232 - accuracy: 0.7713 - val_loss: 0.0909 - val_accuracy: 0.9712\n",
            "Epoch 2/10\n",
            "650/650 [==============================] - 302s 465ms/step - loss: 0.2336 - accuracy: 0.9277 - val_loss: 0.0380 - val_accuracy: 0.9927\n",
            "Epoch 3/10\n",
            "650/650 [==============================] - 302s 465ms/step - loss: 0.1106 - accuracy: 0.9668 - val_loss: 0.0266 - val_accuracy: 0.9938\n",
            "Epoch 4/10\n",
            "650/650 [==============================] - 298s 458ms/step - loss: 0.0672 - accuracy: 0.9809 - val_loss: 0.0246 - val_accuracy: 0.9962\n",
            "Epoch 5/10\n",
            "650/650 [==============================] - 298s 459ms/step - loss: 0.0445 - accuracy: 0.9885 - val_loss: 0.0206 - val_accuracy: 0.9965\n",
            "Epoch 6/10\n",
            "650/650 [==============================] - 300s 461ms/step - loss: 0.0354 - accuracy: 0.9910 - val_loss: 0.0195 - val_accuracy: 0.9973\n",
            "Epoch 7/10\n",
            "650/650 [==============================] - 307s 472ms/step - loss: 0.0328 - accuracy: 0.9920 - val_loss: 0.0206 - val_accuracy: 0.9977\n",
            "Epoch 8/10\n",
            "650/650 [==============================] - 298s 458ms/step - loss: 0.0256 - accuracy: 0.9935 - val_loss: 0.0141 - val_accuracy: 0.9973\n",
            "Epoch 9/10\n",
            "650/650 [==============================] - 298s 458ms/step - loss: 0.0257 - accuracy: 0.9936 - val_loss: 0.0190 - val_accuracy: 0.9969\n",
            "Epoch 10/10\n",
            "650/650 [==============================] - 297s 457ms/step - loss: 0.0189 - accuracy: 0.9953 - val_loss: 0.0179 - val_accuracy: 0.9973\n"
          ]
        }
      ],
      "source": [
        "cb = [\n",
        "#     callbacks.EarlyStopping(monitor='val_loss', patience=5, restore_best_weights=True),\n",
        "    callbacks.ModelCheckpoint('model_efficientnet_finetuned.hdf5', save_best_only=True, monitor='val_loss')\n",
        "]\n",
        "\n",
        "train_generator.reset()\n",
        "valid_generator.reset()\n",
        "\n",
        "history_efficientnet_2 = model_efficientnet.fit(\n",
        "    train_generator,\n",
        "    validation_data = valid_generator,\n",
        "    epochs = 10,\n",
        "    batch_size = 32,\n",
        "    verbose = 1,\n",
        "    callbacks = cb\n",
        ")"
      ]
    },
    {
      "cell_type": "code",
      "execution_count": null,
      "id": "481c72a2",
      "metadata": {
        "execution": {
          "iopub.execute_input": "2024-02-01T18:11:27.211672Z",
          "iopub.status.busy": "2024-02-01T18:11:27.211256Z",
          "iopub.status.idle": "2024-02-01T18:11:27.586026Z",
          "shell.execute_reply": "2024-02-01T18:11:27.585049Z"
        },
        "papermill": {
          "duration": 2.474756,
          "end_time": "2024-02-01T18:11:27.588686",
          "exception": false,
          "start_time": "2024-02-01T18:11:25.113930",
          "status": "completed"
        },
        "tags": [],
        "id": "481c72a2",
        "outputId": "4c6fd8f5-bd16-423e-e149-18a3fe7aafca"
      },
      "outputs": [
        {
          "data": {
            "image/png": "[encoded data removed]",
            "text/plain": [
              "<Figure size 864x432 with 2 Axes>"
            ]
          },
          "metadata": {
            "needs_background": "light"
          },
          "output_type": "display_data"
        }
      ],
      "source": [
        "fig, ax = plt.subplots(nrows = 1, ncols = 2, figsize = (12,6))\n",
        "\n",
        "ax[0].plot(history_efficientnet_2.history['accuracy'], '-', label = 'Training Accuracy')\n",
        "ax[0].plot(history_efficientnet_2.history['val_accuracy'], '-', label = 'Validation Accuracy')\n",
        "ax[0].set_xlabel('Epochs')\n",
        "ax[0].set_ylabel('Accuracy')\n",
        "ax[0].set_title('Epochs & Training Accuracy', fontsize=20)\n",
        "ax[0].legend(loc='best')\n",
        "\n",
        "ax[1].plot(history_efficientnet_2.history['loss'], '-', label = 'Training loss')\n",
        "ax[1].plot(history_efficientnet_2.history['val_loss'], '-', label = 'Validation loss')\n",
        "ax[1].set_xlabel('Epochs')\n",
        "ax[1].set_ylabel('loss')\n",
        "ax[1].set_title('Epochs & Training loss', fontsize=20)\n",
        "ax[1].legend(loc='best')\n",
        "\n",
        "plt.show()"
      ]
    },
    {
      "cell_type": "code",
      "execution_count": null,
      "id": "59504d9a",
      "metadata": {
        "execution": {
          "iopub.execute_input": "2024-02-01T18:11:31.813628Z",
          "iopub.status.busy": "2024-02-01T18:11:31.812679Z",
          "iopub.status.idle": "2024-02-01T18:11:31.817729Z",
          "shell.execute_reply": "2024-02-01T18:11:31.816925Z"
        },
        "id": "59504d9a",
        "papermill": {
          "duration": 2.193572,
          "end_time": "2024-02-01T18:11:31.819870",
          "exception": false,
          "start_time": "2024-02-01T18:11:29.626298",
          "status": "completed"
        },
        "tags": []
      },
      "outputs": [],
      "source": [
        "model_loaded = model_efficientnet"
      ]
    },
    {
      "cell_type": "code",
      "execution_count": null,
      "id": "1b194da7",
      "metadata": {
        "execution": {
          "iopub.execute_input": "2024-02-01T18:11:35.963614Z",
          "iopub.status.busy": "2024-02-01T18:11:35.963231Z",
          "iopub.status.idle": "2024-02-01T18:12:10.486231Z",
          "shell.execute_reply": "2024-02-01T18:12:10.484997Z"
        },
        "id": "1b194da7",
        "papermill": {
          "duration": 36.534484,
          "end_time": "2024-02-01T18:12:10.488928",
          "exception": false,
          "start_time": "2024-02-01T18:11:33.954444",
          "status": "completed"
        },
        "tags": [],
        "outputId": "aa288dce-dc3d-49a7-a114-8f3d5c2cd213"
      },
      "outputs": [
        {
          "name": "stdout",
          "output_type": "stream",
          "text": [
            "2600/2600 [==============================] - 34s 13ms/step\n"
          ]
        }
      ],
      "source": [
        "test_generator.reset()\n",
        "pred = model_loaded.predict(test_generator, verbose=1)"
      ]
    },
    {
      "cell_type": "code",
      "execution_count": null,
      "id": "ccdc4d5e",
      "metadata": {
        "execution": {
          "iopub.execute_input": "2024-02-01T18:12:14.999429Z",
          "iopub.status.busy": "2024-02-01T18:12:14.998433Z",
          "iopub.status.idle": "2024-02-01T18:12:15.081671Z",
          "shell.execute_reply": "2024-02-01T18:12:15.080351Z"
        },
        "id": "ccdc4d5e",
        "papermill": {
          "duration": 2.390199,
          "end_time": "2024-02-01T18:12:15.084261",
          "exception": false,
          "start_time": "2024-02-01T18:12:12.694062",
          "status": "completed"
        },
        "tags": [],
        "outputId": "d3cadd16-90a5-4b00-8d4b-82470d3b77c0"
      },
      "outputs": [
        {
          "name": "stdout",
          "output_type": "stream",
          "text": [
            "0.9996153846153846\n",
            "              precision    recall  f1-score   support\n",
            "\n",
            "           A       1.00      1.00      1.00       100\n",
            "           B       1.00      1.00      1.00       100\n",
            "           C       1.00      1.00      1.00       100\n",
            "           D       1.00      1.00      1.00       100\n",
            "           E       1.00      1.00      1.00       100\n",
            "           F       1.00      1.00      1.00       100\n",
            "           G       1.00      1.00      1.00       100\n",
            "           H       1.00      1.00      1.00       100\n",
            "           I       1.00      1.00      1.00       100\n",
            "           J       1.00      1.00      1.00       100\n",
            "           K       1.00      1.00      1.00       100\n",
            "           L       1.00      1.00      1.00       100\n",
            "           M       1.00      1.00      1.00       100\n",
            "           N       1.00      1.00      1.00       100\n",
            "           O       1.00      1.00      1.00       100\n",
            "           P       1.00      0.99      0.99       100\n",
            "           Q       0.99      1.00      1.00       100\n",
            "           R       1.00      1.00      1.00       100\n",
            "           S       1.00      1.00      1.00       100\n",
            "           T       1.00      1.00      1.00       100\n",
            "           U       1.00      1.00      1.00       100\n",
            "           V       1.00      1.00      1.00       100\n",
            "           W       1.00      1.00      1.00       100\n",
            "           X       1.00      1.00      1.00       100\n",
            "           Y       1.00      1.00      1.00       100\n",
            "           Z       1.00      1.00      1.00       100\n",
            "\n",
            "    accuracy                           1.00      2600\n",
            "   macro avg       1.00      1.00      1.00      2600\n",
            "weighted avg       1.00      1.00      1.00      2600\n",
            "\n"
          ]
        }
      ],
      "source": [
        "pred = np.argmax(pred,axis=1)\n",
        "labels = (train_generator.class_indices)\n",
        "labels = dict((v,k) for k,v in labels.items())\n",
        "pred = [labels[k] for k in pred]\n",
        "\n",
        "print(accuracy_score(test['label'], pred))\n",
        "print(classification_report(test['label'], pred))"
      ]
    }
  ],
  "metadata": {
    "kaggle": {
      "accelerator": "nvidiaTeslaT4",
      "dataSources": [
        {
          "datasetId": 2275641,
          "sourceId": 3821116,
          "sourceType": "datasetVersion"
        },
        {
          "datasetId": 4379628,
          "sourceId": 7518596,
          "sourceType": "datasetVersion"
        }
      ],
      "dockerImageVersionId": 30351,
      "isGpuEnabled": true,
      "isInternetEnabled": true,
      "language": "python",
      "sourceType": "notebook"
    },
    "kernelspec": {
      "display_name": "Python 3",
      "language": "python",
      "name": "python3"
    },
    "language_info": {
      "codemirror_mode": {
        "name": "ipython",
        "version": 3
      },
      "file_extension": ".py",
      "mimetype": "text/x-python",
      "name": "python",
      "nbconvert_exporter": "python",
      "pygments_lexer": "ipython3",
      "version": "3.7.12"
    },
    "papermill": {
      "default_parameters": {},
      "duration": 11988.834861,
      "end_time": "2024-02-01T18:12:24.648005",
      "environment_variables": {},
      "exception": null,
      "input_path": "__notebook__.ipynb",
      "output_path": "__notebook__.ipynb",
      "parameters": {},
      "start_time": "2024-02-01T14:52:35.813144",
      "version": "2.3.4"
    },
    "colab": {
      "provenance": [],
      "include_colab_link": true
    }
  },
  "nbformat": 4,
  "nbformat_minor": 5
}