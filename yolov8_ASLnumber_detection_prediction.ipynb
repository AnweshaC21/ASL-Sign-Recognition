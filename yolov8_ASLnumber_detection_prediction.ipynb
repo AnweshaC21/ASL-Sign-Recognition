{
  "nbformat": 4,
  "nbformat_minor": 0,
  "metadata": {
    "colab": {
      "provenance": [],
      "gpuType": "T4",
      "include_colab_link": true
    },
    "kernelspec": {
      "name": "python3",
      "display_name": "Python 3"
    },
    "language_info": {
      "name": "python"
    },
    "accelerator": "GPU"
  },
  "cells": [
    {
      "cell_type": "markdown",
      "metadata": {
        "id": "view-in-github",
        "colab_type": "text"
      },
      "source": [
        "<a href=\"https://colab.research.google.com/github/AnweshaC21/ASL-Sign-Recognition/blob/main/yolov8_ASLnumber_detection_prediction.ipynb\" target=\"_parent\"><img src=\"https://colab.research.google.com/assets/colab-badge.svg\" alt=\"Open In Colab\"/></a>"
      ]
    },
    {
      "cell_type": "code",
      "execution_count": null,
      "metadata": {
        "colab": {
          "base_uri": "https://localhost:8080/"
        },
        "id": "5apBzSrAfccv",
        "outputId": "95c49007-3e9c-4e51-ac9d-4b041964e44e"
      },
      "outputs": [
        {
          "output_type": "stream",
          "name": "stdout",
          "text": [
            "Collecting ultralytics==8.0.145\n",
            "  Downloading ultralytics-8.0.145-py3-none-any.whl (605 kB)\n",
            "\u001b[?25l     \u001b[90m━━━━━━━━━━━━━━━━━━━━━━━━━━━━━━━━━━━━━━━━\u001b[0m \u001b[32m0.0/605.6 kB\u001b[0m \u001b[31m?\u001b[0m eta \u001b[36m-:--:--\u001b[0m\r\u001b[2K     \u001b[91m━━━━━━━━━━━━━━\u001b[0m\u001b[91m╸\u001b[0m\u001b[90m━━━━━━━━━━━━━━━━━━━━━━━━━\u001b[0m \u001b[32m225.3/605.6 kB\u001b[0m \u001b[31m8.0 MB/s\u001b[0m eta \u001b[36m0:00:01\u001b[0m\r\u001b[2K     \u001b[90m━━━━━━━━━━━━━━━━━━━━━━━━━━━━━━━━━━━━━━━━\u001b[0m \u001b[32m605.6/605.6 kB\u001b[0m \u001b[31m12.2 MB/s\u001b[0m eta \u001b[36m0:00:00\u001b[0m\n",
            "\u001b[?25hRequirement already satisfied: matplotlib>=3.2.2 in /usr/local/lib/python3.10/dist-packages (from ultralytics==8.0.145) (3.7.1)\n",
            "Requirement already satisfied: opencv-python>=4.6.0 in /usr/local/lib/python3.10/dist-packages (from ultralytics==8.0.145) (4.8.0.76)\n",
            "Requirement already satisfied: pillow>=7.1.2 in /usr/local/lib/python3.10/dist-packages (from ultralytics==8.0.145) (9.4.0)\n",
            "Requirement already satisfied: pyyaml>=5.3.1 in /usr/local/lib/python3.10/dist-packages (from ultralytics==8.0.145) (6.0.1)\n",
            "Requirement already satisfied: requests>=2.23.0 in /usr/local/lib/python3.10/dist-packages (from ultralytics==8.0.145) (2.31.0)\n",
            "Requirement already satisfied: scipy>=1.4.1 in /usr/local/lib/python3.10/dist-packages (from ultralytics==8.0.145) (1.11.4)\n",
            "Requirement already satisfied: torch>=1.7.0 in /usr/local/lib/python3.10/dist-packages (from ultralytics==8.0.145) (2.3.0+cu121)\n",
            "Requirement already satisfied: torchvision>=0.8.1 in /usr/local/lib/python3.10/dist-packages (from ultralytics==8.0.145) (0.18.0+cu121)\n",
            "Requirement already satisfied: tqdm>=4.64.0 in /usr/local/lib/python3.10/dist-packages (from ultralytics==8.0.145) (4.66.4)\n",
            "Requirement already satisfied: pandas>=1.1.4 in /usr/local/lib/python3.10/dist-packages (from ultralytics==8.0.145) (2.0.3)\n",
            "Requirement already satisfied: seaborn>=0.11.0 in /usr/local/lib/python3.10/dist-packages (from ultralytics==8.0.145) (0.13.1)\n",
            "Requirement already satisfied: psutil in /usr/local/lib/python3.10/dist-packages (from ultralytics==8.0.145) (5.9.5)\n",
            "Requirement already satisfied: py-cpuinfo in /usr/local/lib/python3.10/dist-packages (from ultralytics==8.0.145) (9.0.0)\n",
            "Requirement already satisfied: contourpy>=1.0.1 in /usr/local/lib/python3.10/dist-packages (from matplotlib>=3.2.2->ultralytics==8.0.145) (1.2.1)\n",
            "Requirement already satisfied: cycler>=0.10 in /usr/local/lib/python3.10/dist-packages (from matplotlib>=3.2.2->ultralytics==8.0.145) (0.12.1)\n",
            "Requirement already satisfied: fonttools>=4.22.0 in /usr/local/lib/python3.10/dist-packages (from matplotlib>=3.2.2->ultralytics==8.0.145) (4.51.0)\n",
            "Requirement already satisfied: kiwisolver>=1.0.1 in /usr/local/lib/python3.10/dist-packages (from matplotlib>=3.2.2->ultralytics==8.0.145) (1.4.5)\n",
            "Requirement already satisfied: numpy>=1.20 in /usr/local/lib/python3.10/dist-packages (from matplotlib>=3.2.2->ultralytics==8.0.145) (1.25.2)\n",
            "Requirement already satisfied: packaging>=20.0 in /usr/local/lib/python3.10/dist-packages (from matplotlib>=3.2.2->ultralytics==8.0.145) (24.0)\n",
            "Requirement already satisfied: pyparsing>=2.3.1 in /usr/local/lib/python3.10/dist-packages (from matplotlib>=3.2.2->ultralytics==8.0.145) (3.1.2)\n",
            "Requirement already satisfied: python-dateutil>=2.7 in /usr/local/lib/python3.10/dist-packages (from matplotlib>=3.2.2->ultralytics==8.0.145) (2.8.2)\n",
            "Requirement already satisfied: pytz>=2020.1 in /usr/local/lib/python3.10/dist-packages (from pandas>=1.1.4->ultralytics==8.0.145) (2023.4)\n",
            "Requirement already satisfied: tzdata>=2022.1 in /usr/local/lib/python3.10/dist-packages (from pandas>=1.1.4->ultralytics==8.0.145) (2024.1)\n",
            "Requirement already satisfied: charset-normalizer<4,>=2 in /usr/local/lib/python3.10/dist-packages (from requests>=2.23.0->ultralytics==8.0.145) (3.3.2)\n",
            "Requirement already satisfied: idna<4,>=2.5 in /usr/local/lib/python3.10/dist-packages (from requests>=2.23.0->ultralytics==8.0.145) (3.7)\n",
            "Requirement already satisfied: urllib3<3,>=1.21.1 in /usr/local/lib/python3.10/dist-packages (from requests>=2.23.0->ultralytics==8.0.145) (2.0.7)\n",
            "Requirement already satisfied: certifi>=2017.4.17 in /usr/local/lib/python3.10/dist-packages (from requests>=2.23.0->ultralytics==8.0.145) (2024.2.2)\n",
            "Requirement already satisfied: filelock in /usr/local/lib/python3.10/dist-packages (from torch>=1.7.0->ultralytics==8.0.145) (3.14.0)\n",
            "Requirement already satisfied: typing-extensions>=4.8.0 in /usr/local/lib/python3.10/dist-packages (from torch>=1.7.0->ultralytics==8.0.145) (4.11.0)\n",
            "Requirement already satisfied: sympy in /usr/local/lib/python3.10/dist-packages (from torch>=1.7.0->ultralytics==8.0.145) (1.12)\n",
            "Requirement already satisfied: networkx in /usr/local/lib/python3.10/dist-packages (from torch>=1.7.0->ultralytics==8.0.145) (3.3)\n",
            "Requirement already satisfied: jinja2 in /usr/local/lib/python3.10/dist-packages (from torch>=1.7.0->ultralytics==8.0.145) (3.1.4)\n",
            "Requirement already satisfied: fsspec in /usr/local/lib/python3.10/dist-packages (from torch>=1.7.0->ultralytics==8.0.145) (2023.6.0)\n",
            "Collecting nvidia-cuda-nvrtc-cu12==12.1.105 (from torch>=1.7.0->ultralytics==8.0.145)\n",
            "  Using cached nvidia_cuda_nvrtc_cu12-12.1.105-py3-none-manylinux1_x86_64.whl (23.7 MB)\n",
            "Collecting nvidia-cuda-runtime-cu12==12.1.105 (from torch>=1.7.0->ultralytics==8.0.145)\n",
            "  Using cached nvidia_cuda_runtime_cu12-12.1.105-py3-none-manylinux1_x86_64.whl (823 kB)\n",
            "Collecting nvidia-cuda-cupti-cu12==12.1.105 (from torch>=1.7.0->ultralytics==8.0.145)\n",
            "  Using cached nvidia_cuda_cupti_cu12-12.1.105-py3-none-manylinux1_x86_64.whl (14.1 MB)\n",
            "Collecting nvidia-cudnn-cu12==8.9.2.26 (from torch>=1.7.0->ultralytics==8.0.145)\n",
            "  Using cached nvidia_cudnn_cu12-8.9.2.26-py3-none-manylinux1_x86_64.whl (731.7 MB)\n",
            "Collecting nvidia-cublas-cu12==12.1.3.1 (from torch>=1.7.0->ultralytics==8.0.145)\n",
            "  Using cached nvidia_cublas_cu12-12.1.3.1-py3-none-manylinux1_x86_64.whl (410.6 MB)\n",
            "Collecting nvidia-cufft-cu12==11.0.2.54 (from torch>=1.7.0->ultralytics==8.0.145)\n",
            "  Using cached nvidia_cufft_cu12-11.0.2.54-py3-none-manylinux1_x86_64.whl (121.6 MB)\n",
            "Collecting nvidia-curand-cu12==10.3.2.106 (from torch>=1.7.0->ultralytics==8.0.145)\n",
            "  Using cached nvidia_curand_cu12-10.3.2.106-py3-none-manylinux1_x86_64.whl (56.5 MB)\n",
            "Collecting nvidia-cusolver-cu12==11.4.5.107 (from torch>=1.7.0->ultralytics==8.0.145)\n",
            "  Using cached nvidia_cusolver_cu12-11.4.5.107-py3-none-manylinux1_x86_64.whl (124.2 MB)\n",
            "Collecting nvidia-cusparse-cu12==12.1.0.106 (from torch>=1.7.0->ultralytics==8.0.145)\n",
            "  Using cached nvidia_cusparse_cu12-12.1.0.106-py3-none-manylinux1_x86_64.whl (196.0 MB)\n",
            "Collecting nvidia-nccl-cu12==2.20.5 (from torch>=1.7.0->ultralytics==8.0.145)\n",
            "  Using cached nvidia_nccl_cu12-2.20.5-py3-none-manylinux2014_x86_64.whl (176.2 MB)\n",
            "Collecting nvidia-nvtx-cu12==12.1.105 (from torch>=1.7.0->ultralytics==8.0.145)\n",
            "  Using cached nvidia_nvtx_cu12-12.1.105-py3-none-manylinux1_x86_64.whl (99 kB)\n",
            "Requirement already satisfied: triton==2.3.0 in /usr/local/lib/python3.10/dist-packages (from torch>=1.7.0->ultralytics==8.0.145) (2.3.0)\n",
            "Collecting nvidia-nvjitlink-cu12 (from nvidia-cusolver-cu12==11.4.5.107->torch>=1.7.0->ultralytics==8.0.145)\n",
            "  Downloading nvidia_nvjitlink_cu12-12.5.40-py3-none-manylinux2014_x86_64.whl (21.3 MB)\n",
            "\u001b[2K     \u001b[90m━━━━━━━━━━━━━━━━━━━━━━━━━━━━━━━━━━━━━━━━\u001b[0m \u001b[32m21.3/21.3 MB\u001b[0m \u001b[31m74.6 MB/s\u001b[0m eta \u001b[36m0:00:00\u001b[0m\n",
            "\u001b[?25hRequirement already satisfied: six>=1.5 in /usr/local/lib/python3.10/dist-packages (from python-dateutil>=2.7->matplotlib>=3.2.2->ultralytics==8.0.145) (1.16.0)\n",
            "Requirement already satisfied: MarkupSafe>=2.0 in /usr/local/lib/python3.10/dist-packages (from jinja2->torch>=1.7.0->ultralytics==8.0.145) (2.1.5)\n",
            "Requirement already satisfied: mpmath>=0.19 in /usr/local/lib/python3.10/dist-packages (from sympy->torch>=1.7.0->ultralytics==8.0.145) (1.3.0)\n",
            "Installing collected packages: nvidia-nvtx-cu12, nvidia-nvjitlink-cu12, nvidia-nccl-cu12, nvidia-curand-cu12, nvidia-cufft-cu12, nvidia-cuda-runtime-cu12, nvidia-cuda-nvrtc-cu12, nvidia-cuda-cupti-cu12, nvidia-cublas-cu12, nvidia-cusparse-cu12, nvidia-cudnn-cu12, nvidia-cusolver-cu12, ultralytics\n",
            "Successfully installed nvidia-cublas-cu12-12.1.3.1 nvidia-cuda-cupti-cu12-12.1.105 nvidia-cuda-nvrtc-cu12-12.1.105 nvidia-cuda-runtime-cu12-12.1.105 nvidia-cudnn-cu12-8.9.2.26 nvidia-cufft-cu12-11.0.2.54 nvidia-curand-cu12-10.3.2.106 nvidia-cusolver-cu12-11.4.5.107 nvidia-cusparse-cu12-12.1.0.106 nvidia-nccl-cu12-2.20.5 nvidia-nvjitlink-cu12-12.5.40 nvidia-nvtx-cu12-12.1.105 ultralytics-8.0.145\n"
          ]
        }
      ],
      "source": [
        "!pip install ultralytics==8.0.145"
      ]
    },
    {
      "cell_type": "code",
      "source": [
        "from IPython import display\n",
        "import ultralytics\n",
        "from ultralytics import YOLO\n",
        "from IPython.display import display, Image\n",
        "from google.colab import drive"
      ],
      "metadata": {
        "id": "rABAq4zMfpYd"
      },
      "execution_count": null,
      "outputs": []
    },
    {
      "cell_type": "code",
      "source": [
        "drive.mount('/content/drive')"
      ],
      "metadata": {
        "colab": {
          "base_uri": "https://localhost:8080/"
        },
        "id": "ZL8s5m1mQByX",
        "outputId": "4867a817-92fd-455e-ddff-f78dd58af0c5"
      },
      "execution_count": null,
      "outputs": [
        {
          "output_type": "stream",
          "name": "stdout",
          "text": [
            "Mounted at /content/drive\n"
          ]
        }
      ]
    },
    {
      "cell_type": "code",
      "source": [
        "%cd /content/drive/MyDrive/ASL-Numbers/"
      ],
      "metadata": {
        "colab": {
          "base_uri": "https://localhost:8080/"
        },
        "id": "gowFKo-SQ-IE",
        "outputId": "64f47030-50b5-4f40-a571-f7dc46772904"
      },
      "execution_count": null,
      "outputs": [
        {
          "output_type": "stream",
          "name": "stdout",
          "text": [
            "/content/drive/MyDrive/ASL-Numbers\n"
          ]
        }
      ]
    },
    {
      "cell_type": "code",
      "source": [
        "!yolo task=detect mode=train model=yolov8n.pt data=data.yaml epochs=100 imgsz=640 plots=True"
      ],
      "metadata": {
        "id": "diAGwN4AiU6Y"
      },
      "execution_count": null,
      "outputs": []
    },
    {
      "cell_type": "code",
      "source": [
        "!yolo task=detect mode=val model=runs/detect/train/weights/best.pt data=data.yaml"
      ],
      "metadata": {
        "colab": {
          "base_uri": "https://localhost:8080/"
        },
        "id": "4U3rcn93i2F_",
        "outputId": "a0e1155d-a5a3-4833-cb41-957e7b0a5148"
      },
      "execution_count": null,
      "outputs": [
        {
          "output_type": "stream",
          "name": "stdout",
          "text": [
            "2024-01-15 05:24:07.337115: E external/local_xla/xla/stream_executor/cuda/cuda_dnn.cc:9261] Unable to register cuDNN factory: Attempting to register factory for plugin cuDNN when one has already been registered\n",
            "2024-01-15 05:24:07.337162: E external/local_xla/xla/stream_executor/cuda/cuda_fft.cc:607] Unable to register cuFFT factory: Attempting to register factory for plugin cuFFT when one has already been registered\n",
            "2024-01-15 05:24:07.338545: E external/local_xla/xla/stream_executor/cuda/cuda_blas.cc:1515] Unable to register cuBLAS factory: Attempting to register factory for plugin cuBLAS when one has already been registered\n",
            "Ultralytics YOLOv8.0.145 🚀 Python-3.10.12 torch-2.1.0+cu121 CUDA:0 (Tesla T4, 15102MiB)\n",
            "Model summary (fused): 168 layers, 3010718 parameters, 0 gradients\n",
            "Downloading https://ultralytics.com/assets/Arial.ttf to '/root/.config/Ultralytics/Arial.ttf'...\n",
            "100% 755k/755k [00:00<00:00, 17.9MB/s]\n",
            "\u001b[34m\u001b[1mval: \u001b[0mScanning /content/drive/MyDrive/FingerspellingDataset/datasets/test/labels... 2600 images, 0 backgrounds, 0 corrupt: 100% 2600/2600 [11:08<00:00,  3.89it/s]\n",
            "\u001b[34m\u001b[1mval: \u001b[0mNew cache created: /content/drive/MyDrive/FingerspellingDataset/datasets/test/labels.cache\n",
            "                 Class     Images  Instances      Box(P          R      mAP50  mAP50-95): 100% 163/163 [00:45<00:00,  3.60it/s]\n",
            "                   all       2600       2600      0.999          1      0.995      0.971\n",
            "                     A       2600        111          1          1      0.995      0.973\n",
            "                     B       2600         85      0.998          1      0.995      0.977\n",
            "                     C       2600        104          1          1      0.995       0.98\n",
            "                     D       2600        100      0.999          1      0.995      0.824\n",
            "                     E       2600        100          1          1      0.995      0.984\n",
            "                     F       2600        100          1          1      0.995      0.994\n",
            "                     G       2600        100      0.999          1      0.995      0.965\n",
            "                     H       2600        110      0.999          1      0.995      0.865\n",
            "                     I       2600        115          1          1      0.995      0.969\n",
            "                     J       2600         88      0.999          1      0.995      0.926\n",
            "                     K       2600         87      0.999          1      0.995      0.962\n",
            "                     L       2600        121      0.999          1      0.995      0.993\n",
            "                     M       2600         81      0.998          1      0.995      0.972\n",
            "                     N       2600        104          1          1      0.995      0.988\n",
            "                     O       2600         94      0.999          1      0.995      0.992\n",
            "                     P       2600        101      0.999       0.99      0.995      0.985\n",
            "                     Q       2600         99      0.989          1      0.992      0.976\n",
            "                     R       2600        100      0.999          1      0.995      0.984\n",
            "                     S       2600        100      0.999          1      0.995      0.982\n",
            "                     T       2600        122      0.999          1      0.995      0.995\n",
            "                     U       2600        147      0.999          1      0.995      0.994\n",
            "                     V       2600        114          1          1      0.995      0.994\n",
            "                     W       2600         17          1          1      0.995      0.995\n",
            "                     X       2600        100      0.998          1      0.995      0.994\n",
            "                     Y       2600        100          1      0.999      0.995      0.988\n",
            "                     Z       2600        100      0.999          1      0.995      0.985\n",
            "Speed: 0.4ms preprocess, 4.3ms inference, 0.0ms loss, 2.0ms postprocess per image\n",
            "Results saved to \u001b[1mruns/detect/val\u001b[0m\n"
          ]
        }
      ]
    },
    {
      "cell_type": "code",
      "source": [
        "!yolo task=detect mode=predict model=best.pt source='/content/drive/MyDrive/ASL-Numbers/test2' save=True"
      ],
      "metadata": {
        "colab": {
          "base_uri": "https://localhost:8080/"
        },
        "id": "2FJ78Vzfmznu",
        "outputId": "f36bc159-7d07-4531-ccf4-4ed73fc73dd4"
      },
      "execution_count": null,
      "outputs": [
        {
          "output_type": "stream",
          "name": "stdout",
          "text": [
            "WARNING ⚠️ best.pt appears to require 'dill', which is not in ultralytics requirements.\n",
            "AutoInstall will run now for 'dill' but this feature will be removed in the future.\n",
            "Recommend fixes are to train a new model using the latest 'ultralytics' package or to run a command with an official YOLOv8 model, i.e. 'yolo predict model=yolov8n.pt'\n",
            "\u001b[31m\u001b[1mrequirements:\u001b[0m Ultralytics requirement ['dill'] not found, attempting AutoUpdate...\n",
            "Collecting dill\n",
            "  Downloading dill-0.3.8-py3-none-any.whl (116 kB)\n",
            "     ━━━━━━━━━━━━━━━━━━━━━━━━━━━━━━━━━━━━━━━━ 116.3/116.3 kB 5.8 MB/s eta 0:00:00\n",
            "Installing collected packages: dill\n",
            "Successfully installed dill-0.3.8\n",
            "\n",
            "\u001b[31m\u001b[1mrequirements:\u001b[0m AutoUpdate success ✅ 5.1s, installed 1 package: ['dill']\n",
            "\u001b[31m\u001b[1mrequirements:\u001b[0m ⚠️ \u001b[1mRestart runtime or rerun command for updates to take effect\u001b[0m\n",
            "\n",
            "2024-04-29 17:54:27.990658: E external/local_xla/xla/stream_executor/cuda/cuda_dnn.cc:9261] Unable to register cuDNN factory: Attempting to register factory for plugin cuDNN when one has already been registered\n",
            "2024-04-29 17:54:27.990722: E external/local_xla/xla/stream_executor/cuda/cuda_fft.cc:607] Unable to register cuFFT factory: Attempting to register factory for plugin cuFFT when one has already been registered\n",
            "2024-04-29 17:54:27.993199: E external/local_xla/xla/stream_executor/cuda/cuda_blas.cc:1515] Unable to register cuBLAS factory: Attempting to register factory for plugin cuBLAS when one has already been registered\n",
            "Ultralytics YOLOv8.0.145 🚀 Python-3.10.12 torch-2.2.1+cu121 CUDA:0 (Tesla T4, 15102MiB)\n",
            "Model summary (fused): 168 layers, 3007598 parameters, 0 gradients\n",
            "\n",
            "image 1/29 /content/drive/MyDrive/ASL-Numbers/test2/1.jpg: 640x480 (no detections), 71.1ms\n",
            "image 2/29 /content/drive/MyDrive/ASL-Numbers/test2/1000_F_297565291_HteRcFeHfYfth1S5CMrJliGC8VQ02Y7A.jpg: 640x640 1 6, 9.3ms\n",
            "image 3/29 /content/drive/MyDrive/ASL-Numbers/test2/1000_F_311823997_dRnsKdRfDQHuLJsqvLkZi6pYiDu6n2KH.jpg: 640x640 1 7, 1 9, 7.4ms\n",
            "image 4/29 /content/drive/MyDrive/ASL-Numbers/test2/2.jpg: 640x512 1 8, 62.4ms\n",
            "image 5/29 /content/drive/MyDrive/ASL-Numbers/test2/25752456-number-10-kid-hand-spelling-american-sign-language-asl-on-white.jpg: 448x640 (no detections), 61.2ms\n",
            "image 6/29 /content/drive/MyDrive/ASL-Numbers/test2/25752467-number-8-kid-hand-spelling-american-sign-language-asl-on-white.jpg: 448x640 (no detections), 7.2ms\n",
            "image 7/29 /content/drive/MyDrive/ASL-Numbers/test2/3.jpg: 640x640 1 6, 8.6ms\n",
            "image 8/29 /content/drive/MyDrive/ASL-Numbers/test2/9.jpg: 640x640 1 9, 7.4ms\n",
            "image 9/29 /content/drive/MyDrive/ASL-Numbers/test2/download.jpeg: 640x608 1 1, 59.9ms\n",
            "image 10/29 /content/drive/MyDrive/ASL-Numbers/test2/images (1).jpeg: 640x640 1 3, 10.0ms\n",
            "image 11/29 /content/drive/MyDrive/ASL-Numbers/test2/images (10).jpeg: 640x640 1 4, 1 9, 11.5ms\n",
            "image 12/29 /content/drive/MyDrive/ASL-Numbers/test2/images (2).jpeg: 640x640 1 4, 13.2ms\n",
            "image 13/29 /content/drive/MyDrive/ASL-Numbers/test2/images (3).jpeg: 640x640 1 4, 7.4ms\n",
            "image 14/29 /content/drive/MyDrive/ASL-Numbers/test2/images (4).jpeg: 640x640 1 3, 1 4, 7.5ms\n",
            "image 15/29 /content/drive/MyDrive/ASL-Numbers/test2/images (5).jpeg: 640x640 1 6, 7.4ms\n",
            "image 16/29 /content/drive/MyDrive/ASL-Numbers/test2/images (6).jpeg: 640x640 1 6, 7.4ms\n",
            "image 17/29 /content/drive/MyDrive/ASL-Numbers/test2/images (7).jpeg: 640x640 1 7, 1 8, 7.4ms\n",
            "image 18/29 /content/drive/MyDrive/ASL-Numbers/test2/images (8).jpeg: 640x640 1 9, 7.7ms\n",
            "image 19/29 /content/drive/MyDrive/ASL-Numbers/test2/images (9).jpeg: 640x640 1 7, 7.5ms\n",
            "image 20/29 /content/drive/MyDrive/ASL-Numbers/test2/images.jpeg: 640x640 1 2, 1 4, 7.4ms\n",
            "image 21/29 /content/drive/MyDrive/ASL-Numbers/test2/istockphoto-637254804-612x612.jpg: 448x640 1 10, 9.7ms\n",
            "image 22/29 /content/drive/MyDrive/ASL-Numbers/test2/number01.jpg: 640x640 (no detections), 8.1ms\n",
            "image 23/29 /content/drive/MyDrive/ASL-Numbers/test2/number02.jpg: 640x640 1 2, 7.4ms\n",
            "image 24/29 /content/drive/MyDrive/ASL-Numbers/test2/number07.jpg: 640x640 1 7, 7.4ms\n",
            "image 25/29 /content/drive/MyDrive/ASL-Numbers/test2/number09.jpg: 640x640 1 7, 1 9, 7.4ms\n",
            "image 26/29 /content/drive/MyDrive/ASL-Numbers/test2/pngtree-asl-number-2-american-finger-fingers-photo-image_1470750.jpg: 640x416 1 9, 62.1ms\n",
            "image 27/29 /content/drive/MyDrive/ASL-Numbers/test2/pngtree-asl-number-6-thumb-fingers-number-photo-image_2078053.jpg: 640x480 1 6, 9.7ms\n",
            "image 28/29 /content/drive/MyDrive/ASL-Numbers/test2/three1.png: 640x640 1 5, 11.9ms\n",
            "image 29/29 /content/drive/MyDrive/ASL-Numbers/test2/woman-showing-number-ten-on-white-background-closeup-sign-language-2MXBG11.jpg: 480x640 1 10, 59.5ms\n",
            "Speed: 3.1ms preprocess, 19.7ms inference, 23.8ms postprocess per image at shape (1, 3, 480, 640)\n",
            "Results saved to \u001b[1mruns/detect/predict4\u001b[0m\n"
          ]
        }
      ]
    }
  ]
}